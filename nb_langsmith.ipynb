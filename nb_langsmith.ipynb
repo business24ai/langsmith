{
 "cells": [
  {
   "cell_type": "code",
   "execution_count": null,
   "metadata": {},
   "outputs": [],
   "source": [
    "from dotenv import load_dotenv\n",
    "from langchain.chains import LLMChain\n",
    "from langchain.chat_models import ChatOpenAI\n",
    "from langchain.prompts import PromptTemplate"
   ]
  },
  {
   "cell_type": "code",
   "execution_count": null,
   "metadata": {},
   "outputs": [],
   "source": [
    "# Load env variables\n",
    "load_dotenv()"
   ]
  },
  {
   "cell_type": "code",
   "execution_count": null,
   "metadata": {},
   "outputs": [],
   "source": [
    "llm = ChatOpenAI(\n",
    "    temperature=0, \n",
    "    tags=[\"tag-temperature-0\"])\n",
    "\n",
    "prompt = PromptTemplate.from_template(\n",
    "    \"What is {input}\")\n",
    "\n",
    "chain = LLMChain(llm=llm, \n",
    "                 prompt=prompt, \n",
    "                 tags=[\"tag-llmchain\"])\n",
    "\n",
    "chain(\"Work life balance\"\n",
    "      , tags=[\"tag-source-ipynb\"]\n",
    "      , metadata={\"my_version\": \"1.0.0\"})"
   ]
  }
 ],
 "metadata": {
  "kernelspec": {
   "display_name": "venv",
   "language": "python",
   "name": "python3"
  },
  "language_info": {
   "codemirror_mode": {
    "name": "ipython",
    "version": 3
   },
   "file_extension": ".py",
   "mimetype": "text/x-python",
   "name": "python",
   "nbconvert_exporter": "python",
   "pygments_lexer": "ipython3",
   "version": "3.11.3"
  },
  "orig_nbformat": 4
 },
 "nbformat": 4,
 "nbformat_minor": 2
}
